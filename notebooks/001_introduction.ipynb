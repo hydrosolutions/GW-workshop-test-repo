{
 "cells": [
  {
   "cell_type": "markdown",
   "id": "3018611e",
   "metadata": {},
   "source": [
    "# If you see this, GREAT NEWS"
   ]
  },
  {
   "cell_type": "markdown",
   "id": "19b0e7e4",
   "metadata": {},
   "source": []
  }
 ],
 "metadata": {
  "kernelspec": {
   "display_name": "base",
   "language": "python",
   "name": "python3"
  },
  "language_info": {
   "name": "python",
   "version": "3.11.8"
  }
 },
 "nbformat": 4,
 "nbformat_minor": 5
}
